{
 "cells": [
  {
   "cell_type": "code",
   "execution_count": 7,
   "id": "ac84e8a7-28ed-4f49-a207-8ec35e1ea073",
   "metadata": {},
   "outputs": [],
   "source": [
    "#find how many gmail users ,yahoo users ,gov .in users are in the data list\n",
    "def function1(x,a):\n",
    "    count=0\n",
    "    for x in z:\n",
    "        if a==x:\n",
    "            count=count+1\n",
    "    return count\n",
    "m='''turboslayer@gmail.com\n",
    "someone@outlook.com\n",
    "crashtv@gov.in\n",
    "blue_defender@gmail.com\n",
    "logan@yahoo.com\n",
    "ironmerc@gov.in\n",
    "steeltitan@outlook.com\n",
    "stealthedefender@yahoo.com\n",
    "blaze_assault@gov.in\n",
    "venom_fate@yahoo.com\n",
    "dark_side@yahoo.com\n",
    "fataldestiny@yahoo.com\n",
    "ultimatebeast@outlook.com\n",
    "masked_titan@gmail.com\n",
    "frozen_gunner@yahoo.com\n",
    "username_copied@gov.in\n",
    "whos_ur_buddy@outlook.com\n",
    "unfinished_sentenc@gov.in\n",
    "all_gone@gov.in\n",
    "something@gmail.com\n",
    "president@gmail.com\n",
    "tinfoilhat@gmail.com\n",
    "anonymouse@yahoo.com\n",
    "definitely_not_an_athlete@outlook.com\n",
    "dropout@gov.in\n",
    "paw_friend@outlook.com\n",
    "test_name_please_ignore@gov.in\n",
    "heyyou@gov.in\n",
    "a_distraction@yahoo.com\n",
    "thegodfatherpart4@gov.in\n",
    "unfriendme@outlook.com\n",
    "doodles@gmail.com\n",
    "fluffycookie@yahoo.com\n",
    "theintolerant@gmail.com\n",
    "fourhour@yahoo.com\n",
    "toastedwithcheese@gmail.com\n",
    "futureking@yahoo.com\n",
    "coolshirtbruh@outlook.com\n",
    "kentucky@yahoo.com\n",
    "chocolate@gmail.com\n",
    "saintbroseph@yahoo.com\n",
    "just_chillin@gmail.com\n",
    "ghostface@gov.in\n",
    "bigfootisreal@yahoo.com\n",
    "newbie@yahoo.com\n",
    "alienware@outlook.com\n",
    "chrishemsworth@outlook.com\n",
    "nachocheesefries@outlook.com\n",
    "reginageorge@gov.in\n",
    "harmless_potato@outlook.com\n",
    "frostedcupcake@outlook.com\n",
    "avocadorable@outlook.com\n",
    "pixie_dust@gmail.com\n",
    "chopsuey@yahoo.com\n",
    "iron_man@gov.in\n",
    "lemon_ade@outlook.com\n",
    "cerial_killer@outlook.com\n",
    "light_year@gov.in\n",
    "phoenix@outlook.com\n",
    "harry_potter@outlook.com '''\n",
    "n=m.split()\n",
    "z=[j.split(\"@\")[1]for j in n]"
   ]
  },
  {
   "cell_type": "code",
   "execution_count": 6,
   "id": "3dd8732c-2c09-48ed-90f9-16649dd608a8",
   "metadata": {},
   "outputs": [
    {
     "name": "stdout",
     "output_type": "stream",
     "text": [
      "number of gmail users are: 12\n",
      "number of yahoo users are: 16\n",
      "number of gov.in users are: 14\n",
      "number of outlook users are: 18\n"
     ]
    }
   ],
   "source": [
    "a,b,c,d=\"gmail.com\",\"yahoo.com\",\"gov.in\",\"outlook.com\"\n",
    "print(\"number of gmail users are:\",function1(z,a))\n",
    "print(\"number of yahoo users are:\",function1(z,b))\n",
    "print(\"number of gov.in users are:\",function1(z,c))\n",
    "print(\"number of outlook users are:\",function1(z,d))\n",
    "\n",
    "\n",
    "\n"
   ]
  },
  {
   "cell_type": "code",
   "execution_count": 1,
   "id": "56a1eae9-2029-4692-a78b-3309cee5fcfd",
   "metadata": {},
   "outputs": [
    {
     "name": "stdin",
     "output_type": "stream",
     "text": [
      "total numbers: 3\n",
      "enter number: 1\n",
      "enter number: 2\n",
      "enter number: 3\n"
     ]
    },
    {
     "name": "stdout",
     "output_type": "stream",
     "text": [
      "the 2nd lowest number in the list is  2\n"
     ]
    }
   ],
   "source": [
    "#find the 2nd lowest number in a list\n",
    "list=[]\n",
    "a=int(input(\"total numbers:\"))\n",
    "for i in range (a):\n",
    "    b=int(input(\"enter number:\"))\n",
    "    list.append(b)\n",
    "aval=min(list)\n",
    "list.remove(aval)\n",
    "aval2=min(list)\n",
    "print(\"the 2nd lowest number in the list is \",aval2)\n",
    "    \n",
    "    "
   ]
  },
  {
   "cell_type": "code",
   "execution_count": null,
   "id": "4ad8020d-f3cf-420f-ae6b-dc760aeca485",
   "metadata": {},
   "outputs": [],
   "source": []
  }
 ],
 "metadata": {
  "kernelspec": {
   "display_name": "Python 3",
   "language": "python",
   "name": "python3"
  },
  "language_info": {
   "codemirror_mode": {
    "name": "ipython",
    "version": 3
   },
   "file_extension": ".py",
   "mimetype": "text/x-python",
   "name": "python",
   "nbconvert_exporter": "python",
   "pygments_lexer": "ipython3",
   "version": "3.8.8"
  }
 },
 "nbformat": 4,
 "nbformat_minor": 5
}
